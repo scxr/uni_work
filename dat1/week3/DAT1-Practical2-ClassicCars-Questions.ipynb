{
 "cells": [
  {
   "cell_type": "markdown",
   "metadata": {
    "id": "rpxHdvCRsrYk"
   },
   "source": [
    "# DATA 1 Practical 2 - Questions\n",
    "\n",
    "Simos Gerasimou\n",
    "\n",
    "\n",
    "## Classic Cars & Co\n",
    "\n",
    "Classic Cars & Co is a UK company that has a large collection of classic cars from the 1980s. \n",
    "\n",
    "DataVision (the company you are working as a Data Scientist) has been contracted to analyse the data available for the cars and provide insights by analysing the different characteristics of the cars (e.g., speed, price). \n",
    "\n",
    "This Jupyter Notebook will be presented to the Classic Cars & Co main stakeholders who have limited knowledge about data science. So, your findings should be complemented by a suitable justification explaining what you observe and, when applicable, what does this observation mean and, possibly, why it occurs. The analysis along with the explanation will help them to understand whether they need to invest more to expand their collection."
   ]
  },
  {
   "cell_type": "markdown",
   "metadata": {
    "id": "Hk3xhSRIzz1L"
   },
   "source": [
    "### **Important Information**\n",
    "\n",
    "(1) To answer these exercises, you **must first read Chapter 2: Introduction to NumPy from the Python Data Science Handbook** (https://jakevdp.github.io/PythonDataScienceHandbook/02.00-introduction-to-numpy.html)\n",
    "\n",
    "\n",
    "(2) For each question (task) a description is provided accompanied (most of the time) by two cells: one for writing the Python code and another for providing the justification. Feel free to add more cells if you feel they are needed, but keep the cells corresponding to the same question close by.\n",
    "\n",
    "**Hint 1**: If you find difficulties in solving a task, look at Chapter 2 from the Python Data Science Handbook.\n",
    "\n",
    "**Hint 2**: Solving each task using NumPy should require less than 10 lines of code"
   ]
  },
  {
   "cell_type": "markdown",
   "metadata": {
    "id": "vX1Wmo8A7Lhm"
   },
   "source": [
    "#### **T1) Explore the dataset and for each column write its name, data type (categorical/numerical - nominal,ordinal,discrete,continuous) and its meaning (i.e., what does it capture?)**\n",
    "\n",
    "* You may want to open the CSV file using a text editor (e.g., Notepad) or a spreadsheet editor (e.g., Excel)"
   ]
  },
  {
   "cell_type": "markdown",
   "metadata": {
    "id": "cIkkf9Hi_XQb"
   },
   "source": [
    "**Write your answer here (the first is given)**\n",
    "* Make: Categorical (Nominal) - The model of the car\n",
    "* ...."
   ]
  },
  {
   "cell_type": "markdown",
   "metadata": {
    "id": "QAMj3BTLz5TJ"
   },
   "source": [
    "### 1) Reading dataset\n",
    "\n",
    "The classic cars dataset is available on VLE (look for classicCars.csv in the Practicals section)"
   ]
  },
  {
   "cell_type": "code",
   "execution_count": 15,
   "metadata": {
    "id": "PMju2Rd-nb6R"
   },
   "outputs": [
    {
     "output_type": "execute_result",
     "data": {
      "text/plain": [
       "            make fueltype numofdoors    bodystyle drivewheels  wheelbase  \\\n",
       "0    alfa-romero      gas        two  convertible         rwd       88.6   \n",
       "1    alfa-romero      gas        two  convertible         rwd       88.6   \n",
       "2    alfa-romero      gas        two    hatchback         rwd       94.5   \n",
       "3           audi      gas       four        sedan         fwd       99.8   \n",
       "4           audi      gas       four        sedan         4wd       99.4   \n",
       "..           ...      ...        ...          ...         ...        ...   \n",
       "200        volvo      gas       four        sedan         rwd      109.1   \n",
       "201        volvo      gas       four        sedan         rwd      109.1   \n",
       "202        volvo      gas       four        sedan         rwd      109.1   \n",
       "203        volvo   diesel       four        sedan         rwd      109.1   \n",
       "204        volvo      gas       four        sedan         rwd      109.1   \n",
       "\n",
       "     length  width  height numofcylinders  enginesize  horsepower  citympg  \\\n",
       "0     168.8   64.1    48.8           four         130         111       21   \n",
       "1     168.8   64.1    48.8           four         130         111       21   \n",
       "2     171.2   65.5    52.4            six         152         154       19   \n",
       "3     176.6   66.2    54.3           four         109         102       24   \n",
       "4     176.6   66.4    54.3           five         136         115       18   \n",
       "..      ...    ...     ...            ...         ...         ...      ...   \n",
       "200   188.8   68.9    55.5           four         141         114       23   \n",
       "201   188.8   68.8    55.5           four         141         160       19   \n",
       "202   188.8   68.9    55.5            six         173         134       18   \n",
       "203   188.8   68.9    55.5            six         145         106       26   \n",
       "204   188.8   68.9    55.5           four         141         114       19   \n",
       "\n",
       "     highwaympg  price  \n",
       "0            27  13495  \n",
       "1            27  16500  \n",
       "2            26  16500  \n",
       "3            30  13950  \n",
       "4            22  17450  \n",
       "..          ...    ...  \n",
       "200          28  16845  \n",
       "201          25  19045  \n",
       "202          23  21485  \n",
       "203          27  22470  \n",
       "204          25  22625  \n",
       "\n",
       "[205 rows x 15 columns]"
      ],
      "text/html": "<div>\n<style scoped>\n    .dataframe tbody tr th:only-of-type {\n        vertical-align: middle;\n    }\n\n    .dataframe tbody tr th {\n        vertical-align: top;\n    }\n\n    .dataframe thead th {\n        text-align: right;\n    }\n</style>\n<table border=\"1\" class=\"dataframe\">\n  <thead>\n    <tr style=\"text-align: right;\">\n      <th></th>\n      <th>make</th>\n      <th>fueltype</th>\n      <th>numofdoors</th>\n      <th>bodystyle</th>\n      <th>drivewheels</th>\n      <th>wheelbase</th>\n      <th>length</th>\n      <th>width</th>\n      <th>height</th>\n      <th>numofcylinders</th>\n      <th>enginesize</th>\n      <th>horsepower</th>\n      <th>citympg</th>\n      <th>highwaympg</th>\n      <th>price</th>\n    </tr>\n  </thead>\n  <tbody>\n    <tr>\n      <th>0</th>\n      <td>alfa-romero</td>\n      <td>gas</td>\n      <td>two</td>\n      <td>convertible</td>\n      <td>rwd</td>\n      <td>88.6</td>\n      <td>168.8</td>\n      <td>64.1</td>\n      <td>48.8</td>\n      <td>four</td>\n      <td>130</td>\n      <td>111</td>\n      <td>21</td>\n      <td>27</td>\n      <td>13495</td>\n    </tr>\n    <tr>\n      <th>1</th>\n      <td>alfa-romero</td>\n      <td>gas</td>\n      <td>two</td>\n      <td>convertible</td>\n      <td>rwd</td>\n      <td>88.6</td>\n      <td>168.8</td>\n      <td>64.1</td>\n      <td>48.8</td>\n      <td>four</td>\n      <td>130</td>\n      <td>111</td>\n      <td>21</td>\n      <td>27</td>\n      <td>16500</td>\n    </tr>\n    <tr>\n      <th>2</th>\n      <td>alfa-romero</td>\n      <td>gas</td>\n      <td>two</td>\n      <td>hatchback</td>\n      <td>rwd</td>\n      <td>94.5</td>\n      <td>171.2</td>\n      <td>65.5</td>\n      <td>52.4</td>\n      <td>six</td>\n      <td>152</td>\n      <td>154</td>\n      <td>19</td>\n      <td>26</td>\n      <td>16500</td>\n    </tr>\n    <tr>\n      <th>3</th>\n      <td>audi</td>\n      <td>gas</td>\n      <td>four</td>\n      <td>sedan</td>\n      <td>fwd</td>\n      <td>99.8</td>\n      <td>176.6</td>\n      <td>66.2</td>\n      <td>54.3</td>\n      <td>four</td>\n      <td>109</td>\n      <td>102</td>\n      <td>24</td>\n      <td>30</td>\n      <td>13950</td>\n    </tr>\n    <tr>\n      <th>4</th>\n      <td>audi</td>\n      <td>gas</td>\n      <td>four</td>\n      <td>sedan</td>\n      <td>4wd</td>\n      <td>99.4</td>\n      <td>176.6</td>\n      <td>66.4</td>\n      <td>54.3</td>\n      <td>five</td>\n      <td>136</td>\n      <td>115</td>\n      <td>18</td>\n      <td>22</td>\n      <td>17450</td>\n    </tr>\n    <tr>\n      <th>...</th>\n      <td>...</td>\n      <td>...</td>\n      <td>...</td>\n      <td>...</td>\n      <td>...</td>\n      <td>...</td>\n      <td>...</td>\n      <td>...</td>\n      <td>...</td>\n      <td>...</td>\n      <td>...</td>\n      <td>...</td>\n      <td>...</td>\n      <td>...</td>\n      <td>...</td>\n    </tr>\n    <tr>\n      <th>200</th>\n      <td>volvo</td>\n      <td>gas</td>\n      <td>four</td>\n      <td>sedan</td>\n      <td>rwd</td>\n      <td>109.1</td>\n      <td>188.8</td>\n      <td>68.9</td>\n      <td>55.5</td>\n      <td>four</td>\n      <td>141</td>\n      <td>114</td>\n      <td>23</td>\n      <td>28</td>\n      <td>16845</td>\n    </tr>\n    <tr>\n      <th>201</th>\n      <td>volvo</td>\n      <td>gas</td>\n      <td>four</td>\n      <td>sedan</td>\n      <td>rwd</td>\n      <td>109.1</td>\n      <td>188.8</td>\n      <td>68.8</td>\n      <td>55.5</td>\n      <td>four</td>\n      <td>141</td>\n      <td>160</td>\n      <td>19</td>\n      <td>25</td>\n      <td>19045</td>\n    </tr>\n    <tr>\n      <th>202</th>\n      <td>volvo</td>\n      <td>gas</td>\n      <td>four</td>\n      <td>sedan</td>\n      <td>rwd</td>\n      <td>109.1</td>\n      <td>188.8</td>\n      <td>68.9</td>\n      <td>55.5</td>\n      <td>six</td>\n      <td>173</td>\n      <td>134</td>\n      <td>18</td>\n      <td>23</td>\n      <td>21485</td>\n    </tr>\n    <tr>\n      <th>203</th>\n      <td>volvo</td>\n      <td>diesel</td>\n      <td>four</td>\n      <td>sedan</td>\n      <td>rwd</td>\n      <td>109.1</td>\n      <td>188.8</td>\n      <td>68.9</td>\n      <td>55.5</td>\n      <td>six</td>\n      <td>145</td>\n      <td>106</td>\n      <td>26</td>\n      <td>27</td>\n      <td>22470</td>\n    </tr>\n    <tr>\n      <th>204</th>\n      <td>volvo</td>\n      <td>gas</td>\n      <td>four</td>\n      <td>sedan</td>\n      <td>rwd</td>\n      <td>109.1</td>\n      <td>188.8</td>\n      <td>68.9</td>\n      <td>55.5</td>\n      <td>four</td>\n      <td>141</td>\n      <td>114</td>\n      <td>19</td>\n      <td>25</td>\n      <td>22625</td>\n    </tr>\n  </tbody>\n</table>\n<p>205 rows × 15 columns</p>\n</div>"
     },
     "metadata": {},
     "execution_count": 15
    }
   ],
   "source": [
    "#Using NumPy to read the dataset\n",
    "import numpy as np\n",
    "import pandas as pd\n",
    "import math\n",
    "#Define the path to the dataset\n",
    "data_path = \"ClassicCars.csv\"\n",
    "#Define the type of each dataset column. \n",
    "#This is needed because NumPy arrays cannot directly read files with different data types\n",
    "#Hence, we are using Structured arrays. \n",
    "#But, we will soon move to Pandas which makes data manipulation easier\n",
    "types = ['U20', 'U10', 'U5', 'U20', 'U3', 'f4', 'f4', 'f4', 'f4', 'U10', 'i4', 'i4', 'i4', 'i4', 'i4']\n",
    "#Read the dataset\n",
    "data = np.genfromtxt(data_path, dtype=types, delimiter=',', names=True)\n",
    "df = pd.read_csv(data_path); df"
   ]
  },
  {
   "cell_type": "markdown",
   "metadata": {
    "id": "2iEJBv9kdIiI"
   },
   "source": [
    "**Structured Arrays**\n",
    "* Read more about structured arrays:\n",
    "  * https://jakevdp.github.io/PythonDataScienceHandbook/02.09-structured-data-numpy.html\n",
    "  * https://numpy.org/doc/stable/user/basics.rec.html"
   ]
  },
  {
   "cell_type": "markdown",
   "metadata": {
    "id": "yHoM-NXN-puT"
   },
   "source": [
    "### Analysing the dataset\n"
   ]
  },
  {
   "cell_type": "markdown",
   "metadata": {
    "id": "0gqds3bJAfIu"
   },
   "source": [
    "#### **Extracting the column names**"
   ]
  },
  {
   "cell_type": "code",
   "execution_count": 13,
   "metadata": {
    "id": "DT1aEd9q0t8-"
   },
   "outputs": [
    {
     "output_type": "execute_result",
     "data": {
      "text/plain": [
       "('make',\n",
       " 'fueltype',\n",
       " 'numofdoors',\n",
       " 'bodystyle',\n",
       " 'drivewheels',\n",
       " 'wheelbase',\n",
       " 'length',\n",
       " 'width',\n",
       " 'height',\n",
       " 'numofcylinders',\n",
       " 'enginesize',\n",
       " 'horsepower',\n",
       " 'citympg',\n",
       " 'highwaympg',\n",
       " 'price')"
      ]
     },
     "metadata": {},
     "execution_count": 13
    }
   ],
   "source": [
    "data.dtype.names"
   ]
  },
  {
   "cell_type": "markdown",
   "metadata": {
    "id": "vPfhK50f7qEQ"
   },
   "source": [
    "#### **Extracting the shape of the array**"
   ]
  },
  {
   "cell_type": "code",
   "execution_count": 14,
   "metadata": {
    "id": "4CkIj9Yq-0a-",
    "tags": []
   },
   "outputs": [
    {
     "output_type": "error",
     "ename": "SyntaxError",
     "evalue": "invalid syntax (<ipython-input-14-ed0cb195be74>, line 2)",
     "traceback": [
      "\u001b[1;36m  File \u001b[1;32m\"<ipython-input-14-ed0cb195be74>\"\u001b[1;36m, line \u001b[1;32m2\u001b[0m\n\u001b[1;33m    print(data.)\u001b[0m\n\u001b[1;37m               ^\u001b[0m\n\u001b[1;31mSyntaxError\u001b[0m\u001b[1;31m:\u001b[0m invalid syntax\n"
     ]
    }
   ],
   "source": [
    "print(\"The shape of the array is: \", data.shape)\n",
    "print(data.)"
   ]
  },
  {
   "cell_type": "markdown",
   "metadata": {
    "id": "Fg3CoWGC--_q"
   },
   "source": [
    "#### **T2) What do you see?**\n",
    "* How many entries does the array have?\n",
    "* What does each entry include? \n",
    "* Hint: Print the elements of an entry\n"
   ]
  },
  {
   "cell_type": "markdown",
   "metadata": {
    "id": "VIdMJvfD_Otb"
   },
   "source": [
    "**Write your answer here**\n",
    "\n",
    "205 entries\n",
    "make,fueltype,numofdoors,bodystyle,drivewheels,wheelbase,length,width,height,numofcylinders,enginesize,horsepower,citympg,highwaympg,price"
   ]
  },
  {
   "cell_type": "markdown",
   "metadata": {
    "id": "XhUpJlMf_wV8"
   },
   "source": [
    "#### **Extracting the entries of a column given its name**\n",
    "\n",
    "* By specifying the name of a column, you can get all the entries within the array for this column (reminder: you are using Structured Arrays)\n"
   ]
  },
  {
   "cell_type": "code",
   "execution_count": null,
   "metadata": {
    "id": "6QMPnMLo_QwO"
   },
   "outputs": [],
   "source": [
    "#Print the entries within the 'make' column\n",
    "print(data['make'])"
   ]
  },
  {
   "cell_type": "markdown",
   "metadata": {
    "id": "yOO8Q7W5A9Cf"
   },
   "source": [
    "#### **T3) Extract the bodystyles within the dataset**\n"
   ]
  },
  {
   "cell_type": "code",
   "execution_count": 11,
   "metadata": {
    "id": "O18vqYhL0_91"
   },
   "outputs": [
    {
     "output_type": "stream",
     "name": "stdout",
     "text": [
      "['convertible' 'convertible' 'hatchback' 'sedan' 'sedan' 'sedan' 'sedan'\n 'wagon' 'sedan' 'hatchback' 'sedan' 'sedan' 'sedan' 'sedan' 'sedan'\n 'sedan' 'sedan' 'sedan' 'hatchback' 'hatchback' 'sedan' 'hatchback'\n 'hatchback' 'hatchback' 'hatchback' 'sedan' 'sedan' 'sedan' 'wagon'\n 'hatchback' 'hatchback' 'hatchback' 'hatchback' 'hatchback' 'hatchback'\n 'sedan' 'wagon' 'hatchback' 'hatchback' 'sedan' 'sedan' 'sedan' 'sedan'\n 'sedan' 'sedan' 'sedan' 'hatchback' 'sedan' 'sedan' 'sedan' 'hatchback'\n 'hatchback' 'hatchback' 'sedan' 'sedan' 'hatchback' 'hatchback'\n 'hatchback' 'hatchback' 'hatchback' 'sedan' 'hatchback' 'sedan' 'sedan'\n 'hatchback' 'sedan' 'sedan' 'sedan' 'wagon' 'hardtop' 'sedan' 'sedan'\n 'convertible' 'sedan' 'hardtop' 'hatchback' 'hatchback' 'hatchback'\n 'hatchback' 'hatchback' 'hatchback' 'hatchback' 'hatchback' 'hatchback'\n 'hatchback' 'sedan' 'sedan' 'sedan' 'sedan' 'sedan' 'sedan' 'sedan'\n 'sedan' 'wagon' 'sedan' 'hatchback' 'sedan' 'wagon' 'hardtop' 'hatchback'\n 'sedan' 'sedan' 'wagon' 'sedan' 'hatchback' 'hatchback' 'hatchback'\n 'sedan' 'sedan' 'wagon' 'wagon' 'sedan' 'sedan' 'wagon' 'wagon' 'sedan'\n 'sedan' 'sedan' 'hatchback' 'hatchback' 'hatchback' 'sedan' 'sedan'\n 'wagon' 'hatchback' 'hatchback' 'hardtop' 'hardtop' 'convertible'\n 'hatchback' 'wagon' 'hatchback' 'hatchback' 'sedan' 'hatchback' 'sedan'\n 'hatchback' 'sedan' 'hatchback' 'hatchback' 'hatchback' 'sedan' 'sedan'\n 'sedan' 'sedan' 'sedan' 'wagon' 'wagon' 'wagon' 'wagon' 'hatchback'\n 'hatchback' 'hatchback' 'wagon' 'wagon' 'wagon' 'sedan' 'hatchback'\n 'sedan' 'hatchback' 'sedan' 'hatchback' 'sedan' 'sedan' 'hatchback'\n 'sedan' 'hatchback' 'hardtop' 'hardtop' 'hatchback' 'hardtop' 'hatchback'\n 'convertible' 'sedan' 'sedan' 'hatchback' 'sedan' 'hatchback' 'hatchback'\n 'hatchback' 'sedan' 'wagon' 'sedan' 'sedan' 'sedan' 'sedan' 'sedan'\n 'sedan' 'sedan' 'convertible' 'hatchback' 'sedan' 'sedan' 'wagon' 'sedan'\n 'wagon' 'sedan' 'wagon' 'sedan' 'wagon' 'sedan' 'sedan' 'sedan' 'sedan'\n 'sedan']\n"
     ]
    }
   ],
   "source": [
    "print(data['bodystyle'])\n"
   ]
  },
  {
   "cell_type": "markdown",
   "metadata": {
    "id": "bIcT8mO1gIca"
   },
   "source": [
    "### How do the car prices look like?\n"
   ]
  },
  {
   "cell_type": "markdown",
   "metadata": {
    "id": "yDfhYbopgUZ6"
   },
   "source": [
    "#### **T4) Calculate the range of car prices for the entire dataset**\n"
   ]
  },
  {
   "cell_type": "code",
   "execution_count": 21,
   "metadata": {
    "id": "QQcVX89v9uZ3"
   },
   "outputs": [
    {
     "output_type": "stream",
     "name": "stdout",
     "text": [
      "40282\n40282\n"
     ]
    }
   ],
   "source": [
    "#Write your answer here\n",
    "print(np.ptp(data['price']))\n"
   ]
  },
  {
   "cell_type": "markdown",
   "metadata": {
    "id": "KpIcl1T0kpIS"
   },
   "source": [
    "#### **T5) Calculate the min, max, mean and median prices of the cars**\n"
   ]
  },
  {
   "cell_type": "code",
   "execution_count": 20,
   "metadata": {
    "id": "KAm74_4ShDA_"
   },
   "outputs": [
    {
     "output_type": "stream",
     "name": "stdout",
     "text": [
      "45400 5118 13300 10345\n"
     ]
    }
   ],
   "source": [
    "#Write your answer here\n",
    "maximum = np.max(data['price'])\n",
    "minimum = np.min(data['price'])\n",
    "mean = np.sum(data['price']) // len(data['price'])\n",
    "median = np.sort(data['price'])[len(data['price'])//2]\n",
    "print(maximum, minimum, mean, median)\n"
   ]
  },
  {
   "cell_type": "markdown",
   "metadata": {
    "id": "HCy66heJlRw9"
   },
   "source": [
    "#### **T6) Considering the values calculated above, what insights can you extract? Where do you think the majority of car prices will be clustered?**\n"
   ]
  },
  {
   "cell_type": "markdown",
   "metadata": {
    "id": "DcaTJEKIlroR"
   },
   "source": [
    "**Write your answer here**\n",
    "\n",
    "The majority of carprices are low, with the median being just above 10,000 and the mean at just above 13,000 this shows the general price of the car is quite low"
   ]
  },
  {
   "cell_type": "markdown",
   "metadata": {
    "id": "fAjvb8alhtHm"
   },
   "source": [
    "#### **T7) Write code to calculate the standard deviation for the car prices. Then use the corresponding NumPy function to confirm the correctness of your calculation**\n",
    "\n"
   ]
  },
  {
   "cell_type": "code",
   "execution_count": 27,
   "metadata": {
    "id": "JDwSTd5Zggg_"
   },
   "outputs": [
    {
     "output_type": "stream",
     "name": "stdout",
     "text": [
      "7969.54140103854\n"
     ]
    }
   ],
   "source": [
    "#Write your answer here\n",
    "answer = np.std(data['price'])\n",
    "print(answer)"
   ]
  },
  {
   "cell_type": "markdown",
   "metadata": {
    "id": "W7tcuWdtnZGV"
   },
   "source": [
    "#### **T8) Find the details of cars with the smallest and largest car volumes**\n",
    "* Hint: see how to calculate the volume of a car https://info.japanesecartrade.com/content-item/297-what-is-m3-cubic-meter-size-of-a-vehicle\n"
   ]
  },
  {
   "cell_type": "code",
   "execution_count": 50,
   "metadata": {
    "id": "mXdzNLqnhfQX",
    "tags": []
   },
   "outputs": [
    {
     "output_type": "stream",
     "name": "stdout",
     "text": [
      "4.526431560516357 8.460077047348022\n"
     ]
    }
   ],
   "source": [
    "#Write your answer here\n",
    "#make,fueltype,numofdoors,bodystyle,drivewheels,wheelbase,length,width,height,numofcylinders,enginesize,horsepower,citympg,highwaympg,price\n",
    "tmp = []\n",
    "max_volume = np.max(data['length']/100*data['width']/100*data['height']/100)*10\n",
    "min_volume = np.min(data['length']/100*data['width']/100*data['height']/100)*10\n",
    "print(min_volume, max_volume) "
   ]
  },
  {
   "cell_type": "markdown",
   "metadata": {
    "id": "cmck40GQqfoR"
   },
   "source": [
    "#### **T9) Find the different types of bodystyles for the cars in the dataset**\n",
    "\n",
    "* Hint: You may want to check: https://numpy.org/doc/stable/reference/generated/numpy.unique.html"
   ]
  },
  {
   "cell_type": "code",
   "execution_count": 51,
   "metadata": {
    "id": "DeTMBSCJp3gD"
   },
   "outputs": [
    {
     "output_type": "stream",
     "name": "stdout",
     "text": [
      "['convertible' 'hardtop' 'hatchback' 'sedan' 'wagon']\n"
     ]
    }
   ],
   "source": [
    "#Write your answer here\n",
    "print(np.unique(data['bodystyle']))\n"
   ]
  },
  {
   "cell_type": "markdown",
   "metadata": {
    "id": "BXF8kjW-sJaq"
   },
   "source": [
    "#### **T10) Find the number of different car *brands* (makes)**\n"
   ]
  },
  {
   "cell_type": "code",
   "execution_count": 52,
   "metadata": {
    "id": "zJTWSXxrsJE3"
   },
   "outputs": [
    {
     "output_type": "stream",
     "name": "stdout",
     "text": [
      "22\n"
     ]
    }
   ],
   "source": [
    "#Write your answer here\n",
    "print(len(np.unique(data['make'])))\n"
   ]
  },
  {
   "cell_type": "markdown",
   "metadata": {
    "id": "h4Ab2ovntRV-"
   },
   "source": [
    "#### **T11) Find the engine size and the horsepower for the most and least efficient cars when driven in the city and the highway (i.e., the cars with the smallest and largest difference in fuel consumption when driven in the city and the highway)**"
   ]
  },
  {
   "cell_type": "code",
   "execution_count": 63,
   "metadata": {
    "id": "fzzrezV8rQ3O"
   },
   "outputs": [
    {
     "output_type": "stream",
     "name": "stdout",
     "text": [
      "\nMost efficient horsepower : 288\nMost efficient engine size : 203\nLeast efficient horsepower : 95\nLeast efficient engine size : 152\n\n"
     ]
    }
   ],
   "source": [
    "#Write your answer here\n",
    "least_index = np.argmax(data['citympg']-data['highwaympg'])\n",
    "most_index = np.argmin(data['citympg']-data['highwaympg'])\n",
    "print(f\"\"\"\n",
    "Most efficient horsepower : {data[most_index]['horsepower']}\n",
    "Most efficient engine size : {data[most_index]['enginesize']}\n",
    "Least efficient horsepower : {data[least_index]['horsepower']}\n",
    "Least efficient engine size : {data[least_index]['enginesize']}\n",
    "\"\"\")\n"
   ]
  },
  {
   "cell_type": "markdown",
   "metadata": {
    "id": "Er9o39z8xge3"
   },
   "source": [
    "#### **T12) Find the make with the largest number of cars and how many they are**"
   ]
  },
  {
   "cell_type": "code",
   "execution_count": 16,
   "metadata": {
    "id": "pWyEz0bTueot"
   },
   "outputs": [
    {
     "output_type": "stream",
     "name": "stdout",
     "text": [
      "toyota 32\n"
     ]
    }
   ],
   "source": [
    "#Write your answer here\n",
    "unique, pos = np.unique(data['make'], return_inverse=True)\n",
    "counts = np.bincount(pos)\n",
    "max_makes = counts.argmax()\n",
    "print(unique[max_makes], counts[max_makes])\n"
   ]
  },
  {
   "cell_type": "markdown",
   "metadata": {
    "id": "Kmy1NtyW0tzm"
   },
   "source": [
    "#### **T13) Find how many cars have a wheel base greater than 100**\n",
    "\n",
    "* Hint: See https://jakevdp.github.io/PythonDataScienceHandbook/02.06-boolean-arrays-and-masks.html"
   ]
  },
  {
   "cell_type": "code",
   "execution_count": 17,
   "metadata": {
    "id": "ZG-vBKvjxrR7"
   },
   "outputs": [
    {
     "output_type": "execute_result",
     "data": {
      "text/plain": [
       "2"
      ]
     },
     "metadata": {},
     "execution_count": 17
    }
   ],
   "source": [
    "#Write your answer here\n",
    "import pandas as pd\n",
    "wheelbases = pd.read_csv('ClassicCars.csv')['wheelbase'].values\n",
    "np.count_nonzero(wheelbases<88)\n"
   ]
  },
  {
   "cell_type": "markdown",
   "metadata": {
    "id": "t3-PcX9C4VLi"
   },
   "source": [
    "#### **T14) Find if there are any convertible cars that cost less than £15000**\n",
    "\n",
    "* Hint: See https://jakevdp.github.io/PythonDataScienceHandbook/02.06-boolean-arrays-and-masks.html"
   ]
  },
  {
   "cell_type": "code",
   "execution_count": 9,
   "metadata": {
    "id": "CkVfwmoG4ewY"
   },
   "outputs": [],
   "source": [
    "#Write your answer here\n",
    "\n"
   ]
  },
  {
   "cell_type": "markdown",
   "metadata": {
    "id": "ywJYQraH1onP"
   },
   "source": [
    "#### **T15) Calculate the interquartile range for the price of all cars**"
   ]
  },
  {
   "cell_type": "code",
   "execution_count": 10,
   "metadata": {
    "id": "8M9_FnENyWWU"
   },
   "outputs": [
    {
     "output_type": "execute_result",
     "data": {
      "text/plain": [
       "8715.0"
      ]
     },
     "metadata": {},
     "execution_count": 10
    }
   ],
   "source": [
    "#Write your answer here\n",
    "q75, q25 = np.percentile(data['price'], [75, 25])\n",
    "iqr = q75-q25\n",
    "iqr"
   ]
  },
  {
   "cell_type": "markdown",
   "metadata": {
    "id": "K81ZLhTh2jyc"
   },
   "source": [
    "#### **T16) Calculate the 50th percentile range for the horsepower of all cars. Which value is the 50th percentile equal to?**"
   ]
  },
  {
   "cell_type": "code",
   "execution_count": 11,
   "metadata": {
    "id": "q1QNhunw2Lnr"
   },
   "outputs": [
    {
     "output_type": "execute_result",
     "data": {
      "text/plain": [
       "array([10345.])"
      ]
     },
     "metadata": {},
     "execution_count": 11
    }
   ],
   "source": [
    "#Write your answer here\n",
    "p50 = np.percentile(data['price'], [50])\n",
    "p50"
   ]
  },
  {
   "cell_type": "markdown",
   "metadata": {
    "id": "GporTyn66Rkz"
   },
   "source": [
    "### Ideas for practicing further at home\n",
    "\n",
    "* Find the engine and horsepower of 4wd cars\n",
    "* Find whether diesel or gas cars are more efficient in the city/highway\n",
    "* Any other analysis that you might could generate some useful insight.\n"
   ]
  }
 ],
 "metadata": {
  "colab": {
   "authorship_tag": "ABX9TyPgs+k0a0z6n+bqTsaPcWej",
   "name": "DAT1-Practical2-ClassicCars-ModelAnswers.ipynb",
   "provenance": []
  },
  "kernelspec": {
   "name": "python3",
   "display_name": "Python 3.9.1 64-bit",
   "metadata": {
    "interpreter": {
     "hash": "3d2ca53ac42a111ca68b7f4ad893a9fec5040967cb1730354fa6d50c3a03f6b8"
    }
   }
  },
  "language_info": {
   "codemirror_mode": {
    "name": "ipython",
    "version": 3
   },
   "file_extension": ".py",
   "mimetype": "text/x-python",
   "name": "python",
   "nbconvert_exporter": "python",
   "pygments_lexer": "ipython3",
   "version": "3.9.1-final"
  }
 },
 "nbformat": 4,
 "nbformat_minor": 1
}
{
 "cells": [
  {
   "cell_type": "markdown",
   "metadata": {
    "id": "zF7tBkX4pilf"
   },
   "source": [
    "# DATA 1 Practical 5\n",
    "\n",
    "Simos Gerasimou\n",
    "\n",
    "\n",
    "## All You Need to Know About Google Play Store\n",
    "\n",
    "**Google Play store** ([https://play.google.com/store?hl=en](https://play.google.com/store?hl=en)) is a digital distribution service operated and developed by Google. It serves as the official app store for the Android operating system, allowing users to browse and download applications developed with the Android software development kit (SDK) and published through Google. [Wikipedia](https://en.wikipedia.org/wiki/Google_Play).\n",
    "\n",
    "**DataVision** has scraped the Google Play store  and acquired data for several Android applications. Since data from the Play Store apps has great potential to drive app-making businesses to success, DataVision wants to investigate whether any actionable insights can be drawn for developers to work on and capture the Android market!\n",
    "\n",
    "#### Your tasks are to explore this dataset and generade some actionable knowledge. \n",
    "\n",
    "\n",
    "#### This Jupyter Notebook will be presented to  Google stakeholders who have limited knowledge about data science. So, your findings should be complemented by a suitable justification explaining what you observe and, when applicable, what does this observation  mean and, possibly, why it occurs.\n",
    "\n",
    "* For each question (task) a description is provided accompanied (most of the time) by two cells: one for writing the Python code and another for providing the justification. Feel free to add more cells if you feel they are needed, but keep the cells corresponding to the same question close by.\n",
    "\n",
    "(1) To answer these exercises, you **must first read Chapter 3: Dapa Manipulation with Pandas from the Python Data Science Handbook** (https://jakevdp.github.io/PythonDataScienceHandbook/03.00-introduction-to-pandas.html)\n",
    "\n",
    "(2) If you haven't already done so, complete the exercises on Pandas tutorial to become familiar with the library.\n",
    "\n",
    "**Pandas API Reference**: https://pandas.pydata.org/pandas-docs/stable/reference/index.html\n",
    "\n",
    "***"
   ]
  },
  {
   "cell_type": "markdown",
   "metadata": {
    "id": "JSMd71Q2pill"
   },
   "source": [
    "### Part 1: Reading dataset\n",
    "\n",
    "The Google dataset is available on VLE (look for googleplaystore.csv in the Practicals section)\n",
    "\n",
    "Before doing the tasks below, you may want to explore the dataset using a spreadsheet editor (e.g., Excel) to get a high-level view of the dataset.\n",
    "\n",
    "**T1) Load the Google Play Store dataset using Pandas**\n",
    "\n",
    "**Note**: You have to download the dataset on your local machine and then load it onto the Jupyter Notebook"
   ]
  },
  {
   "cell_type": "code",
   "execution_count": null,
   "metadata": {
    "id": "Nd3k6O6Gpilo"
   },
   "outputs": [],
   "source": [
    "import pandas as pd \n",
    "import numpy as np\n",
    "\n",
    "#Write your answer here\n",
    "data = pd.read_csv(\"googleplaystore.csv\")\n"
   ]
  },
  {
   "cell_type": "markdown",
   "metadata": {
    "id": "GA46YePHpilr"
   },
   "source": [
    "***\n",
    "\n",
    "### Part 2: Cleaning and analysing the dataset"
   ]
  },
  {
   "cell_type": "markdown",
   "metadata": {
    "id": "tNP03BoptJCV"
   },
   "source": [
    "**T2i) Print the first 10 records of the dataframe**"
   ]
  },
  {
   "cell_type": "code",
   "execution_count": 2,
   "metadata": {
    "id": "JIL4cdSqpilt"
   },
   "outputs": [
    {
     "output_type": "stream",
     "name": "stdout",
     "text": [
      "                                                 App        Category  Rating  \\\n0     Photo Editor & Candy Camera & Grid & ScrapBook  ART_AND_DESIGN     4.1   \n1                                Coloring book moana  ART_AND_DESIGN     3.9   \n2  U Launcher Lite – FREE Live Cool Themes, Hide ...  ART_AND_DESIGN     4.7   \n3                              Sketch - Draw & Paint  ART_AND_DESIGN     4.5   \n4              Pixel Draw - Number Art Coloring Book  ART_AND_DESIGN     4.3   \n5                         Paper flowers instructions  ART_AND_DESIGN     4.4   \n6            Smoke Effect Photo Maker - Smoke Editor  ART_AND_DESIGN     3.8   \n7                                   Infinite Painter  ART_AND_DESIGN     4.1   \n8                               Garden Coloring Book  ART_AND_DESIGN     4.4   \n9                      Kids Paint Free - Drawing Fun  ART_AND_DESIGN     4.7   \n\n   Reviews  Size     Installs  Type Price Content Rating  \\\n0      159   19M      10,000+  Free     0       Everyone   \n1      967   14M     500,000+  Free     0       Everyone   \n2    87510  8.7M   5,000,000+  Free     0       Everyone   \n3   215644   25M  50,000,000+  Free     0           Teen   \n4      967  2.8M     100,000+  Free     0       Everyone   \n5      167  5.6M      50,000+  Free     0       Everyone   \n6      178   19M      50,000+  Free     0       Everyone   \n7    36815   29M   1,000,000+  Free     0       Everyone   \n8    13791   33M   1,000,000+  Free     0       Everyone   \n9      121  3.1M      10,000+  Free     0       Everyone   \n\n                      Genres        Last Updated         Current Ver  \\\n0               Art & Design     January 7, 2018               1.0.0   \n1  Art & Design;Pretend Play    January 15, 2018               2.0.0   \n2               Art & Design      August 1, 2018               1.2.4   \n3               Art & Design        June 8, 2018  Varies with device   \n4    Art & Design;Creativity       June 20, 2018                 1.1   \n5               Art & Design      March 26, 2017                 1.0   \n6               Art & Design      April 26, 2018                 1.1   \n7               Art & Design       June 14, 2018            6.1.61.1   \n8               Art & Design  September 20, 2017               2.9.2   \n9    Art & Design;Creativity        July 3, 2018                 2.8   \n\n    Android Ver  \n0  4.0.3 and up  \n1  4.0.3 and up  \n2  4.0.3 and up  \n3    4.2 and up  \n4    4.4 and up  \n5    2.3 and up  \n6  4.0.3 and up  \n7    4.2 and up  \n8    3.0 and up  \n9  4.0.3 and up  \n"
     ]
    }
   ],
   "source": [
    "#Write your answer here\n",
    "print(data.head(10))"
   ]
  },
  {
   "cell_type": "markdown",
   "metadata": {
    "id": "J-3Llu8tuD3U"
   },
   "source": [
    "**T2ii) Print the last 3 records of the dataframe**"
   ]
  },
  {
   "cell_type": "code",
   "execution_count": 3,
   "metadata": {
    "id": "JX6ch_uopilv"
   },
   "outputs": [
    {
     "output_type": "stream",
     "name": "stdout",
     "text": [
      "                                                 App             Category  \\\n10830                       payermonstationnement.fr  MAPS_AND_NAVIGATION   \n10831                                       FR Tides              WEATHER   \n10832                                    Chemin (fr)  BOOKS_AND_REFERENCE   \n10833                                  FR Calculator               FAMILY   \n10834                                       FR Forms             BUSINESS   \n10835                               Sya9a Maroc - FR               FAMILY   \n10836               Fr. Mike Schmitz Audio Teachings               FAMILY   \n10837                         Parkinson Exercices FR              MEDICAL   \n10838                  The SCP Foundation DB fr nn5n  BOOKS_AND_REFERENCE   \n10839  iHoroscope - 2018 Daily Horoscope & Astrology            LIFESTYLE   \n\n       Rating  Reviews                Size     Installs  Type Price  \\\n10830     NaN       38                9.8M       5,000+  Free     0   \n10831     3.8     1195                582k     100,000+  Free     0   \n10832     4.8       44                619k       1,000+  Free     0   \n10833     4.0        7                2.6M         500+  Free     0   \n10834     NaN        0                9.6M          10+  Free     0   \n10835     4.5       38                 53M       5,000+  Free     0   \n10836     5.0        4                3.6M         100+  Free     0   \n10837     NaN        3                9.5M       1,000+  Free     0   \n10838     4.5      114  Varies with device       1,000+  Free     0   \n10839     4.5   398307                 19M  10,000,000+  Free     0   \n\n      Content Rating             Genres        Last Updated  \\\n10830       Everyone  Maps & Navigation       June 13, 2018   \n10831       Everyone            Weather   February 16, 2014   \n10832       Everyone  Books & Reference      March 23, 2014   \n10833       Everyone          Education       June 18, 2017   \n10834       Everyone           Business  September 29, 2016   \n10835       Everyone          Education       July 25, 2017   \n10836       Everyone          Education        July 6, 2018   \n10837       Everyone            Medical    January 20, 2017   \n10838     Mature 17+  Books & Reference    January 19, 2015   \n10839       Everyone          Lifestyle       July 25, 2018   \n\n              Current Ver         Android Ver  \n10830           2.0.148.0          4.0 and up  \n10831                 6.0          2.1 and up  \n10832                 0.8          2.2 and up  \n10833               1.0.0          4.1 and up  \n10834               1.1.5          4.0 and up  \n10835                1.48          4.1 and up  \n10836                 1.0          4.1 and up  \n10837                 1.0          2.2 and up  \n10838  Varies with device  Varies with device  \n10839  Varies with device  Varies with device  \n"
     ]
    }
   ],
   "source": [
    "#Write your answer here\n",
    "last_3 = data.tail(10)\n",
    "print(last_3)"
   ]
  },
  {
   "cell_type": "markdown",
   "metadata": {
    "id": "0ypuvQBvpilx"
   },
   "source": [
    "**T3) Get general info about the dataset**"
   ]
  },
  {
   "cell_type": "code",
   "execution_count": 4,
   "metadata": {
    "id": "FbzVNiLEpily"
   },
   "outputs": [
    {
     "output_type": "stream",
     "name": "stdout",
     "text": [
      "<class 'pandas.core.frame.DataFrame'>\nRangeIndex: 10840 entries, 0 to 10839\nData columns (total 13 columns):\n #   Column          Non-Null Count  Dtype  \n---  ------          --------------  -----  \n 0   App             10840 non-null  object \n 1   Category        10840 non-null  object \n 2   Rating          9366 non-null   float64\n 3   Reviews         10840 non-null  int64  \n 4   Size            10840 non-null  object \n 5   Installs        10840 non-null  object \n 6   Type            10839 non-null  object \n 7   Price           10840 non-null  object \n 8   Content Rating  10840 non-null  object \n 9   Genres          10840 non-null  object \n 10  Last Updated    10840 non-null  object \n 11  Current Ver     10832 non-null  object \n 12  Android Ver     10838 non-null  object \ndtypes: float64(1), int64(1), object(11)\nmemory usage: 1.1+ MB\n"
     ]
    }
   ],
   "source": [
    "#Write your answer here\n",
    "data.info()\n"
   ]
  },
  {
   "cell_type": "markdown",
   "metadata": {
    "id": "okNuSdnjpilz"
   },
   "source": [
    "**T4) Explore the dataset and try to understand the meaning of each column. For each column, write its meaning and its data type**"
   ]
  },
  {
   "cell_type": "code",
   "execution_count": 5,
   "metadata": {},
   "outputs": [],
   "source": [
    "#Write your answer here\n"
   ]
  },
  {
   "cell_type": "markdown",
   "metadata": {
    "id": "HYxnGDLKpil2"
   },
   "source": [
    "**T5) Get the shape of the dataframe**"
   ]
  },
  {
   "cell_type": "code",
   "execution_count": 6,
   "metadata": {
    "id": "8Z0XUlOSpil5"
   },
   "outputs": [
    {
     "output_type": "execute_result",
     "data": {
      "text/plain": [
       "(10840, 13)"
      ]
     },
     "metadata": {},
     "execution_count": 6
    }
   ],
   "source": [
    "#Write your answer here\n",
    "data.shape\n"
   ]
  },
  {
   "cell_type": "markdown",
   "metadata": {
    "id": "BMmauN4Opil7"
   },
   "source": [
    "**T6) Get the name of the columns for the dataframe**"
   ]
  },
  {
   "cell_type": "code",
   "execution_count": 7,
   "metadata": {
    "id": "iEpHm4g7pil7"
   },
   "outputs": [
    {
     "output_type": "execute_result",
     "data": {
      "text/plain": [
       "Index(['App', 'Category', 'Rating', 'Reviews', 'Size', 'Installs', 'Type',\n",
       "       'Price', 'Content Rating', 'Genres', 'Last Updated', 'Current Ver',\n",
       "       'Android Ver'],\n",
       "      dtype='object')"
      ]
     },
     "metadata": {},
     "execution_count": 7
    }
   ],
   "source": [
    "#Write your answer here\n",
    "data.columns\n"
   ]
  },
  {
   "cell_type": "markdown",
   "metadata": {
    "id": "kTny7cHppil7"
   },
   "source": [
    "**T7) Do you think the columns (variables) need to be more readable? If so, rename them (e.g., suitable capitalisation, eliminate underscores, full words)**"
   ]
  },
  {
   "cell_type": "code",
   "execution_count": 8,
   "metadata": {
    "id": "6mQqaiejpil9"
   },
   "outputs": [],
   "source": [
    "#Write your answer here\n",
    "data.columns = data.columns.str.replace(\"Ver\", \"Version\")\n",
    "\n"
   ]
  },
  {
   "cell_type": "markdown",
   "metadata": {
    "id": "5o5-LKDEpil9"
   },
   "source": [
    "**T8) How many duplicated records exist?**\n",
    "\n",
    "**Note**: A record is duplicated if all its entries are identical with another record\n",
    "\n"
   ]
  },
  {
   "cell_type": "code",
   "execution_count": 9,
   "metadata": {
    "id": "fmJa-u1mpil-"
   },
   "outputs": [
    {
     "output_type": "stream",
     "name": "stdout",
     "text": [
      "                                                   App      Category  Rating  \\\n229                       Quick PDF Scanner + OCR FREE      BUSINESS     4.2   \n236                                                Box      BUSINESS     4.2   \n239                                 Google My Business      BUSINESS     4.4   \n256                                ZOOM Cloud Meetings      BUSINESS     4.4   \n261                          join.me - Simple Meetings      BUSINESS     4.0   \n...                                                ...           ...     ...   \n8643                    Wunderlist: To-Do List & Tasks  PRODUCTIVITY     4.6   \n8654   TickTick: To Do List with Reminder, Day Planner  PRODUCTIVITY     4.6   \n8658                           ColorNote Notepad Notes  PRODUCTIVITY     4.6   \n10049        Airway Ex - Intubate. Anesthetize. Train.       MEDICAL     4.3   \n10767                                             AAFP       MEDICAL     3.8   \n\n       Reviews                Size      Installs  Type Price Content Rating  \\\n229      80805  Varies with device    5,000,000+  Free     0       Everyone   \n236     159872  Varies with device   10,000,000+  Free     0       Everyone   \n239      70991  Varies with device    5,000,000+  Free     0       Everyone   \n256      31614                 37M   10,000,000+  Free     0       Everyone   \n261       6989  Varies with device    1,000,000+  Free     0       Everyone   \n...        ...                 ...           ...   ...   ...            ...   \n8643    404610  Varies with device   10,000,000+  Free     0       Everyone   \n8654     25370  Varies with device    1,000,000+  Free     0       Everyone   \n8658   2401017  Varies with device  100,000,000+  Free     0       Everyone   \n10049      123                 86M       10,000+  Free     0       Everyone   \n10767       63                 24M       10,000+  Free     0       Everyone   \n\n             Genres       Last Updated     Current Version     Android Version  \n229        Business  February 26, 2018  Varies with device        4.0.3 and up  \n236        Business      July 31, 2018  Varies with device  Varies with device  \n239        Business      July 24, 2018    2.19.0.204537701          4.4 and up  \n256        Business      July 20, 2018      4.1.28165.0716          4.0 and up  \n261        Business      July 16, 2018           4.3.0.508          4.4 and up  \n...             ...                ...                 ...                 ...  \n8643   Productivity      April 6, 2018  Varies with device  Varies with device  \n8654   Productivity     August 6, 2018  Varies with device  Varies with device  \n8658   Productivity      June 27, 2018  Varies with device  Varies with device  \n10049       Medical       June 1, 2018              0.6.88          5.0 and up  \n10767       Medical      June 22, 2018               2.3.1          5.0 and up  \n\n[483 rows x 13 columns]\n"
     ]
    }
   ],
   "source": [
    "#Write your answer here\n",
    "duplicates = data[data.duplicated()]\n",
    "print(duplicates)"
   ]
  },
  {
   "cell_type": "markdown",
   "metadata": {
    "id": "8NAcEIUPpimB"
   },
   "source": [
    "**T9i) How many of the duplicated records refer to 'blood pressure' in their name?**"
   ]
  },
  {
   "cell_type": "code",
   "execution_count": 37,
   "metadata": {
    "id": "DjBTHp5vEu-U"
   },
   "outputs": [
    {
     "output_type": "execute_result",
     "data": {
      "text/plain": [
       "9"
      ]
     },
     "metadata": {},
     "execution_count": 37
    }
   ],
   "source": [
    "# your answer here\n",
    "len(duplicates[[\"blood pressure\" in x.lower() for x in duplicates[\"App\"]]])\n"
   ]
  },
  {
   "cell_type": "markdown",
   "metadata": {
    "id": "diz4XEm2FuJ3"
   },
   "source": [
    "**T9ii) Print the records you found in task T9i**"
   ]
  },
  {
   "cell_type": "code",
   "execution_count": 11,
   "metadata": {
    "id": "6V6RRcYeF3HF"
   },
   "outputs": [],
   "source": [
    "#Write your answer here\n"
   ]
  },
  {
   "cell_type": "markdown",
   "metadata": {
    "id": "lO_TXFuT7xUx"
   },
   "source": [
    "**T10) Let's look more closely into the dataset. Are there more duplicates?**\n",
    "\n",
    "**Hint:** Check the duplicated function of Pandas to understand how the function operates. Do you need to specify what information to consider when checking for duplicates?"
   ]
  },
  {
   "cell_type": "code",
   "execution_count": 12,
   "metadata": {
    "id": "albqSW1t83Ms"
   },
   "outputs": [],
   "source": [
    "#Write your answer here\n"
   ]
  },
  {
   "cell_type": "markdown",
   "metadata": {
    "id": "rAjnzdgt-XeP"
   },
   "source": [
    "**T11) Find the app with the highest number of duplicated records and the number of duplicated records for this app**\n",
    "\n",
    "**Hint:** How can you count the records of a dataframe?"
   ]
  },
  {
   "cell_type": "code",
   "execution_count": 13,
   "metadata": {
    "id": "6kx0QrFk98LT"
   },
   "outputs": [
    {
     "output_type": "execute_result",
     "data": {
      "text/plain": [
       "                                                    App          Category  \\\n",
       "1658  CBS Sports App - Scores, News, Stats & Watch Live            SPORTS   \n",
       "5919                                               Nick     ENTERTAINMENT   \n",
       "6562   Quizlet: Learn Languages & Vocab with Flashcards         EDUCATION   \n",
       "8205                                          WatchESPN            SPORTS   \n",
       "8672  eBay: Buy & Sell this Summer - Discover Deals ...          SHOPPING   \n",
       "7116                                         Skyscanner  TRAVEL_AND_LOCAL   \n",
       "4268                                        Google Keep      PRODUCTIVITY   \n",
       "\n",
       "      Rating  Reviews                Size      Installs  Type Price  \\\n",
       "1658     4.3    91031  Varies with device    5,000,000+  Free     0   \n",
       "5919     4.2   123279                 25M   10,000,000+  Free     0   \n",
       "6562     4.6   211856  Varies with device   10,000,000+  Free     0   \n",
       "8205     4.1   288809                6.6M   10,000,000+  Free     0   \n",
       "8672     4.4  2788923  Varies with device  100,000,000+  Free     0   \n",
       "7116     4.5   481546                 29M   10,000,000+  Free     0   \n",
       "4268     4.4   691474  Varies with device  100,000,000+  Free     0   \n",
       "\n",
       "     Content Rating                       Genres        Last Updated  \\\n",
       "1658       Everyone                       Sports      August 4, 2018   \n",
       "5919   Everyone 10+  Entertainment;Music & Video    January 24, 2018   \n",
       "6562       Everyone                    Education      August 1, 2018   \n",
       "8205       Everyone                       Sports  September 27, 2017   \n",
       "8672           Teen                     Shopping       July 30, 2018   \n",
       "7116       Everyone               Travel & Local      August 6, 2018   \n",
       "4268       Everyone                 Productivity      August 6, 2018   \n",
       "\n",
       "         Current Version     Android Version  count  \n",
       "1658  Varies with device          5.0 and up      4  \n",
       "5919               2.0.8          4.4 and up      4  \n",
       "6562  Varies with device  Varies with device      4  \n",
       "8205               2.5.1          4.4 and up      4  \n",
       "8672  Varies with device  Varies with device      4  \n",
       "7116                5.48          4.4 and up      4  \n",
       "4268  Varies with device  Varies with device      4  "
      ],
      "text/html": "<div>\n<style scoped>\n    .dataframe tbody tr th:only-of-type {\n        vertical-align: middle;\n    }\n\n    .dataframe tbody tr th {\n        vertical-align: top;\n    }\n\n    .dataframe thead th {\n        text-align: right;\n    }\n</style>\n<table border=\"1\" class=\"dataframe\">\n  <thead>\n    <tr style=\"text-align: right;\">\n      <th></th>\n      <th>App</th>\n      <th>Category</th>\n      <th>Rating</th>\n      <th>Reviews</th>\n      <th>Size</th>\n      <th>Installs</th>\n      <th>Type</th>\n      <th>Price</th>\n      <th>Content Rating</th>\n      <th>Genres</th>\n      <th>Last Updated</th>\n      <th>Current Version</th>\n      <th>Android Version</th>\n      <th>count</th>\n    </tr>\n  </thead>\n  <tbody>\n    <tr>\n      <th>1658</th>\n      <td>CBS Sports App - Scores, News, Stats &amp; Watch Live</td>\n      <td>SPORTS</td>\n      <td>4.3</td>\n      <td>91031</td>\n      <td>Varies with device</td>\n      <td>5,000,000+</td>\n      <td>Free</td>\n      <td>0</td>\n      <td>Everyone</td>\n      <td>Sports</td>\n      <td>August 4, 2018</td>\n      <td>Varies with device</td>\n      <td>5.0 and up</td>\n      <td>4</td>\n    </tr>\n    <tr>\n      <th>5919</th>\n      <td>Nick</td>\n      <td>ENTERTAINMENT</td>\n      <td>4.2</td>\n      <td>123279</td>\n      <td>25M</td>\n      <td>10,000,000+</td>\n      <td>Free</td>\n      <td>0</td>\n      <td>Everyone 10+</td>\n      <td>Entertainment;Music &amp; Video</td>\n      <td>January 24, 2018</td>\n      <td>2.0.8</td>\n      <td>4.4 and up</td>\n      <td>4</td>\n    </tr>\n    <tr>\n      <th>6562</th>\n      <td>Quizlet: Learn Languages &amp; Vocab with Flashcards</td>\n      <td>EDUCATION</td>\n      <td>4.6</td>\n      <td>211856</td>\n      <td>Varies with device</td>\n      <td>10,000,000+</td>\n      <td>Free</td>\n      <td>0</td>\n      <td>Everyone</td>\n      <td>Education</td>\n      <td>August 1, 2018</td>\n      <td>Varies with device</td>\n      <td>Varies with device</td>\n      <td>4</td>\n    </tr>\n    <tr>\n      <th>8205</th>\n      <td>WatchESPN</td>\n      <td>SPORTS</td>\n      <td>4.1</td>\n      <td>288809</td>\n      <td>6.6M</td>\n      <td>10,000,000+</td>\n      <td>Free</td>\n      <td>0</td>\n      <td>Everyone</td>\n      <td>Sports</td>\n      <td>September 27, 2017</td>\n      <td>2.5.1</td>\n      <td>4.4 and up</td>\n      <td>4</td>\n    </tr>\n    <tr>\n      <th>8672</th>\n      <td>eBay: Buy &amp; Sell this Summer - Discover Deals ...</td>\n      <td>SHOPPING</td>\n      <td>4.4</td>\n      <td>2788923</td>\n      <td>Varies with device</td>\n      <td>100,000,000+</td>\n      <td>Free</td>\n      <td>0</td>\n      <td>Teen</td>\n      <td>Shopping</td>\n      <td>July 30, 2018</td>\n      <td>Varies with device</td>\n      <td>Varies with device</td>\n      <td>4</td>\n    </tr>\n    <tr>\n      <th>7116</th>\n      <td>Skyscanner</td>\n      <td>TRAVEL_AND_LOCAL</td>\n      <td>4.5</td>\n      <td>481546</td>\n      <td>29M</td>\n      <td>10,000,000+</td>\n      <td>Free</td>\n      <td>0</td>\n      <td>Everyone</td>\n      <td>Travel &amp; Local</td>\n      <td>August 6, 2018</td>\n      <td>5.48</td>\n      <td>4.4 and up</td>\n      <td>4</td>\n    </tr>\n    <tr>\n      <th>4268</th>\n      <td>Google Keep</td>\n      <td>PRODUCTIVITY</td>\n      <td>4.4</td>\n      <td>691474</td>\n      <td>Varies with device</td>\n      <td>100,000,000+</td>\n      <td>Free</td>\n      <td>0</td>\n      <td>Everyone</td>\n      <td>Productivity</td>\n      <td>August 6, 2018</td>\n      <td>Varies with device</td>\n      <td>Varies with device</td>\n      <td>4</td>\n    </tr>\n  </tbody>\n</table>\n</div>"
     },
     "metadata": {},
     "execution_count": 13
    }
   ],
   "source": [
    "#Write your answer here\n",
    "new = data.groupby(data.columns.tolist(), as_index=False).size()\n",
    "dups = data.groupby(data.columns.tolist()).size().reset_index().rename(columns={0:'count'})\n",
    "dups.sort_values(\"count\", ascending=False).head(7)"
   ]
  },
  {
   "cell_type": "markdown",
   "metadata": {
    "id": "YrcVW-xaCVYq"
   },
   "source": [
    "**T12) Investigate the records for the app you found in task T10. What can you observe? Can you identiy the reason why the duplicate records exist?**"
   ]
  },
  {
   "cell_type": "code",
   "execution_count": 14,
   "metadata": {
    "id": "mpvkOjwHGbk8"
   },
   "outputs": [
    {
     "output_type": "error",
     "ename": "SyntaxError",
     "evalue": "invalid syntax (<ipython-input-14-279f491e322d>, line 2)",
     "traceback": [
      "\u001b[1;36m  File \u001b[1;32m\"<ipython-input-14-279f491e322d>\"\u001b[1;36m, line \u001b[1;32m2\u001b[0m\n\u001b[1;33m    theyre famous companies so people are trying to get money\u001b[0m\n\u001b[1;37m           ^\u001b[0m\n\u001b[1;31mSyntaxError\u001b[0m\u001b[1;31m:\u001b[0m invalid syntax\n"
     ]
    }
   ],
   "source": [
    "#Write your answer here\n",
    "theyre famous companies so people are trying to get money"
   ]
  },
  {
   "cell_type": "markdown",
   "metadata": {
    "id": "xlmfXnU6FnDe"
   },
   "source": [
    "**T13) Assuming that the data has been scaped sequentially, remove all duplicates by specifying which record to keep**\n",
    "\n",
    "**Hint:** You may want to check the documentation of the drop_duplicates function"
   ]
  },
  {
   "cell_type": "code",
   "execution_count": 16,
   "metadata": {
    "id": "zZJrqxFwGJIT"
   },
   "outputs": [],
   "source": [
    "#Write your answer here\n",
    "data_no_dups = data.drop_duplicates(keep='first')\n"
   ]
  },
  {
   "cell_type": "markdown",
   "metadata": {
    "id": "75BvTequ2TOE"
   },
   "source": [
    "**T14i) Check the type of variable indicating the last timethe application was update and convert it into the appropriate format**\n",
    "\n",
    "**Hint:** \n",
    "\n",
    "* You may want to check https://pandas.pydata.org/pandas-docs/stable/reference/api/pandas.to_datetime.html\n",
    "\n",
    "* Pay attention to the date format and the month type\n",
    "\n",
    "* You may also want to check https://pandas.pydata.org/pandas-docs/stable/reference/api/pandas.DataFrame.loc.html"
   ]
  },
  {
   "cell_type": "code",
   "execution_count": 17,
   "metadata": {
    "id": "WfqLzfWpvLCW"
   },
   "outputs": [],
   "source": [
    "#Write your answer here\n"
   ]
  },
  {
   "cell_type": "markdown",
   "metadata": {
    "id": "ADn1cUAJ4lgY"
   },
   "source": [
    "**T14ii) Which application was updated least recently and when did this happen?**"
   ]
  },
  {
   "cell_type": "code",
   "execution_count": 18,
   "metadata": {
    "id": "bhGlOTgzyqf5"
   },
   "outputs": [],
   "source": [
    "#Write your answer here\n"
   ]
  },
  {
   "cell_type": "markdown",
   "metadata": {
    "id": "0FCz6WwAdqBi"
   },
   "source": [
    "**T15) How many unique values exist under the Price variable? Print the first five unique prices.**"
   ]
  },
  {
   "cell_type": "code",
   "execution_count": 19,
   "metadata": {
    "id": "FnxwCk2sdxiM"
   },
   "outputs": [
    {
     "output_type": "execute_result",
     "data": {
      "text/plain": [
       "array(['0', '$4.99', '$3.99', '$6.99', '$1.49'], dtype=object)"
      ]
     },
     "metadata": {},
     "execution_count": 19
    }
   ],
   "source": [
    "#Write your answer here\n",
    "data_no_dups['Price'].unique()[0:5]\n"
   ]
  },
  {
   "cell_type": "markdown",
   "metadata": {
    "id": "NNuuClnoeoJv"
   },
   "source": [
    "**T16i) Write a function moneyWithoutCurrencySymbol that takes a string and returns the string as a float without the currency symbol (if exists)**"
   ]
  },
  {
   "cell_type": "code",
   "execution_count": 20,
   "metadata": {
    "id": "SnMVUnVLqK35"
   },
   "outputs": [],
   "source": [
    "#Write your answer here\n",
    "import re\n",
    "def moneyWithoutCurrencySymbol(value):\n",
    "    return float(re.findall(r'\\d+',value)[0])\n",
    "\n"
   ]
  },
  {
   "cell_type": "markdown",
   "metadata": {
    "id": "mzyr0QyYqR9P"
   },
   "source": [
    "**T16ii) Perform the necessary processing tasks to convert the Price variable into a float**\n",
    "\n",
    "**Hint:**\n",
    "\n",
    "* You may want to use the function from task T16i\n",
    "* You may want to check https://pandas.pydata.org/pandas-docs/stable/reference/api/pandas.Series.apply.html\n",
    "* Alternatively, you may want to check https://pandas.pydata.org/pandas-docs/stable/reference/api/pandas.to_numeric.html"
   ]
  },
  {
   "cell_type": "code",
   "execution_count": 21,
   "metadata": {
    "id": "k4RCDZ9GqgV1"
   },
   "outputs": [
    {
     "output_type": "stream",
     "name": "stdout",
     "text": [
      "0        0.0\n1        0.0\n2        0.0\n3        0.0\n4        0.0\n        ... \n10835    0.0\n10836    0.0\n10837    0.0\n10838    0.0\n10839    0.0\nName: Price, Length: 10357, dtype: float64\n"
     ]
    }
   ],
   "source": [
    "#Write your answer here\n",
    "data_prices = data_no_dups['Price'].apply(moneyWithoutCurrencySymbol)\n",
    "print(data_prices)"
   ]
  },
  {
   "cell_type": "markdown",
   "metadata": {
    "id": "KOgK0zeU-h3G"
   },
   "source": [
    "**T17i) How many missing data exist for each variable? Is this a messy or a clean dataset?**"
   ]
  },
  {
   "cell_type": "code",
   "execution_count": 22,
   "metadata": {
    "id": "IIQidrOA-DgL"
   },
   "outputs": [
    {
     "output_type": "execute_result",
     "data": {
      "text/plain": [
       "0"
      ]
     },
     "metadata": {},
     "execution_count": 22
    }
   ],
   "source": [
    "#Write your answer here\n",
    "missing_data = data_prices.isna().sum()\n",
    "missing_data"
   ]
  },
  {
   "cell_type": "markdown",
   "metadata": {
    "id": "M3gS7DfP-tCy"
   },
   "source": [
    "**T17ii) Impute the categorical columns with the mode value**\n",
    "\n",
    "**Hint:** Check Chapter 3 of the Python Data Science Handbook "
   ]
  },
  {
   "cell_type": "code",
   "execution_count": 23,
   "metadata": {
    "id": "U7Tx_qat_EaF"
   },
   "outputs": [],
   "source": [
    "#Write your answer here\n"
   ]
  },
  {
   "cell_type": "markdown",
   "metadata": {
    "id": "0Ci6Jr7i_zFU"
   },
   "source": [
    "**T17iii) What would be an appropriate value to impute for the other variable? Apply the imputation.**"
   ]
  },
  {
   "cell_type": "code",
   "execution_count": 24,
   "metadata": {
    "id": "eXrzXx1z_4O9"
   },
   "outputs": [],
   "source": [
    "#Write your answer here\n"
   ]
  },
  {
   "cell_type": "markdown",
   "metadata": {
    "id": "o4HCestaAtua"
   },
   "source": [
    "**T18i) Which are the possible values for the variable Installs?**"
   ]
  },
  {
   "cell_type": "code",
   "execution_count": 25,
   "metadata": {
    "id": "Cv1b-ceaCU43"
   },
   "outputs": [
    {
     "output_type": "stream",
     "name": "stdout",
     "text": [
      "0            10,000+\n1           500,000+\n2         5,000,000+\n3        50,000,000+\n4           100,000+\n            ...     \n10835         5,000+\n10836           100+\n10837         1,000+\n10838         1,000+\n10839    10,000,000+\nName: Installs, Length: 10840, dtype: object\n"
     ]
    }
   ],
   "source": [
    "#Write your answer here\n",
    "print(data[\"Installs\"])\n"
   ]
  },
  {
   "cell_type": "markdown",
   "metadata": {
    "id": "T-eNNDDuCaxk"
   },
   "source": [
    "**T18ii) Based on the result from task T18i, do you see any odd value? Do think any cleaning is needed?**"
   ]
  },
  {
   "cell_type": "code",
   "execution_count": 26,
   "metadata": {
    "id": "Dt30oayZCmUp"
   },
   "outputs": [],
   "source": [
    "#Write your answer here\n"
   ]
  },
  {
   "cell_type": "markdown",
   "metadata": {
    "id": "Fp6Z9u22DLiB"
   },
   "source": [
    "**T18iii) If you did any cleaning in task T18ii, check that the cleaning has taken place**"
   ]
  },
  {
   "cell_type": "code",
   "execution_count": 27,
   "metadata": {
    "id": "6nLgMXiqAtXb"
   },
   "outputs": [],
   "source": [
    "#Write your answer here\n"
   ]
  },
  {
   "cell_type": "markdown",
   "metadata": {
    "id": "3hKrivsXHUNv"
   },
   "source": [
    "**T19i) Perform the necessary processing tasks to convert the Size variable into a float using a common metric (i.e., which will enable to compare records between each other using the size value). Set records whose value is \"Varies with device\" to 1**"
   ]
  },
  {
   "cell_type": "code",
   "execution_count": 28,
   "metadata": {
    "id": "-qxVrfRbGg6X"
   },
   "outputs": [],
   "source": [
    "#Write your answer here\n"
   ]
  },
  {
   "cell_type": "markdown",
   "metadata": {
    "id": "K9IUOqNJJz2k"
   },
   "source": [
    "**T19ii) Which is the smallest application and what is its size?**"
   ]
  },
  {
   "cell_type": "code",
   "execution_count": 29,
   "metadata": {
    "id": "IPJNN6GdJ8G4"
   },
   "outputs": [],
   "source": [
    "#Write your answer here\n"
   ]
  },
  {
   "cell_type": "markdown",
   "metadata": {
    "id": "PrwbjmM_LW_P"
   },
   "source": [
    "**T19iii) What is the most common Category of the largest applications and which applications belong to this Category?**"
   ]
  },
  {
   "cell_type": "code",
   "execution_count": 30,
   "metadata": {
    "id": "qBYY1FCnKugz"
   },
   "outputs": [],
   "source": [
    "#Write your answer here\n"
   ]
  },
  {
   "cell_type": "markdown",
   "metadata": {
    "id": "U0Legs9DO8wx"
   },
   "source": [
    "**T20) Are there any logical errors in the Type and Price variables? Are there any applications whose type if Free and you have to pay? Are there any application with type Paid which you can get for free? Check the integrity of the dataset using these conditions**"
   ]
  },
  {
   "cell_type": "code",
   "execution_count": 31,
   "metadata": {
    "id": "x18qkWP8DroK"
   },
   "outputs": [],
   "source": [
    "#Write your answer here\n"
   ]
  },
  {
   "cell_type": "markdown",
   "metadata": {
    "id": "vKilGP1dP9th"
   },
   "source": [
    "**T21) A reviewer of an application may or may not rate the review. Check the consistency of the dataset concerning this matter**"
   ]
  },
  {
   "cell_type": "code",
   "execution_count": 32,
   "metadata": {
    "id": "eGlKl_L3P9bq"
   },
   "outputs": [],
   "source": [
    "#Write your answer here\n"
   ]
  },
  {
   "cell_type": "markdown",
   "metadata": {
    "id": "KlX4ueSUpimG"
   },
   "source": [
    "**T22) Get some descriptive statistics for the dataset**\n"
   ]
  },
  {
   "cell_type": "code",
   "execution_count": 33,
   "metadata": {
    "id": "tFunlPgBpimH"
   },
   "outputs": [
    {
     "output_type": "execute_result",
     "data": {
      "text/plain": [
       "            Rating       Reviews\n",
       "count  9366.000000  1.084000e+04\n",
       "mean      4.191757  4.441529e+05\n",
       "std       0.515219  2.927761e+06\n",
       "min       1.000000  0.000000e+00\n",
       "25%       4.000000  3.800000e+01\n",
       "50%       4.300000  2.094000e+03\n",
       "75%       4.500000  5.477550e+04\n",
       "max       5.000000  7.815831e+07"
      ],
      "text/html": "<div>\n<style scoped>\n    .dataframe tbody tr th:only-of-type {\n        vertical-align: middle;\n    }\n\n    .dataframe tbody tr th {\n        vertical-align: top;\n    }\n\n    .dataframe thead th {\n        text-align: right;\n    }\n</style>\n<table border=\"1\" class=\"dataframe\">\n  <thead>\n    <tr style=\"text-align: right;\">\n      <th></th>\n      <th>Rating</th>\n      <th>Reviews</th>\n    </tr>\n  </thead>\n  <tbody>\n    <tr>\n      <th>count</th>\n      <td>9366.000000</td>\n      <td>1.084000e+04</td>\n    </tr>\n    <tr>\n      <th>mean</th>\n      <td>4.191757</td>\n      <td>4.441529e+05</td>\n    </tr>\n    <tr>\n      <th>std</th>\n      <td>0.515219</td>\n      <td>2.927761e+06</td>\n    </tr>\n    <tr>\n      <th>min</th>\n      <td>1.000000</td>\n      <td>0.000000e+00</td>\n    </tr>\n    <tr>\n      <th>25%</th>\n      <td>4.000000</td>\n      <td>3.800000e+01</td>\n    </tr>\n    <tr>\n      <th>50%</th>\n      <td>4.300000</td>\n      <td>2.094000e+03</td>\n    </tr>\n    <tr>\n      <th>75%</th>\n      <td>4.500000</td>\n      <td>5.477550e+04</td>\n    </tr>\n    <tr>\n      <th>max</th>\n      <td>5.000000</td>\n      <td>7.815831e+07</td>\n    </tr>\n  </tbody>\n</table>\n</div>"
     },
     "metadata": {},
     "execution_count": 33
    }
   ],
   "source": [
    "#Write your answer here\n",
    "data.describe()"
   ]
  },
  {
   "cell_type": "markdown",
   "metadata": {
    "id": "gznzJ93NpimV"
   },
   "source": [
    "**T23) Create a new column that indicates the difference between the Last Updated variable column and the current date.**\n"
   ]
  },
  {
   "cell_type": "code",
   "execution_count": 34,
   "metadata": {
    "id": "n3bbieRdpimV"
   },
   "outputs": [],
   "source": [
    "#Write your answer here\n"
   ]
  },
  {
   "cell_type": "markdown",
   "metadata": {
    "id": "5rpldxmopimd"
   },
   "source": [
    "**T24) (Funny) What is weird about the most expensive appslications which are at or above the 99.9th percentile?**"
   ]
  },
  {
   "cell_type": "code",
   "execution_count": 35,
   "metadata": {
    "id": "dNQjZSZ3pimd"
   },
   "outputs": [
    {
     "output_type": "execute_result",
     "data": {
      "text/plain": [
       "App               I'm Rich - Trump Edition\n",
       "Category                         LIFESTYLE\n",
       "Rating                                 3.6\n",
       "Reviews                                275\n",
       "Size                                  7.3M\n",
       "Installs                           10,000+\n",
       "Type                                  Paid\n",
       "Price                              $400.00\n",
       "Content Rating                    Everyone\n",
       "Genres                           Lifestyle\n",
       "Last Updated                   May 3, 2018\n",
       "Current Ver                          1.0.1\n",
       "Android Ver                     4.1 and up\n",
       "Name: 4367, dtype: object"
      ]
     },
     "metadata": {},
     "execution_count": 35
    }
   ],
   "source": [
    "#Write your answer here\n",
    "data.loc[data_prices.index[data_prices > data_prices.quantile(0.999)][0]]\n"
   ]
  },
  {
   "cell_type": "markdown",
   "metadata": {
    "id": "nvCqJSl_pimd"
   },
   "source": [
    "### Should you finish earlier/want to practice at home, you could\n",
    "\n",
    "* Check that the Price variable does not have logical error (values below 0)\n",
    "* Check that the values of Rating variable is within the limits [0,5]\n",
    "* Any other analysis that you might could generate some useful insight.\n",
    "* Try to visualise elements from Practical 2"
   ]
  },
  {
   "cell_type": "code",
   "execution_count": null,
   "metadata": {
    "id": "GHmsld9RSAxt"
   },
   "outputs": [],
   "source": []
  }
 ],
 "metadata": {
  "colab": {
   "collapsed_sections": [],
   "name": "DAT1-Practical5-Questions.ipynb",
   "provenance": []
  },
  "kernelspec": {
   "name": "python3",
   "display_name": "Python 3.9.1 64-bit",
   "metadata": {
    "interpreter": {
     "hash": "3d2ca53ac42a111ca68b7f4ad893a9fec5040967cb1730354fa6d50c3a03f6b8"
    }
   }
  },
  "language_info": {
   "codemirror_mode": {
    "name": "ipython",
    "version": 3
   },
   "file_extension": ".py",
   "mimetype": "text/x-python",
   "name": "python",
   "nbconvert_exporter": "python",
   "pygments_lexer": "ipython3",
   "version": "3.9.1-final"
  }
 },
 "nbformat": 4,
 "nbformat_minor": 1
}
{
 "cells": [
  {
   "cell_type": "markdown",
   "metadata": {
    "id": "myigq6n8nO-X"
   },
   "source": [
    "# DATA 1 Practical 4\n",
    "\n",
    "Simos Gerasimou\n",
    "\n",
    "\n",
    "## Internet Movie Database Exploration and Analysis\n",
    "\n",
    "**IMDB** ([http://imdb.com](http://imdb.com)) is an online database of information related to films, television programs, home videos, video games, and streaming content online – including cast, production crew and personal biographies, plot summaries, trivia, fan and critical reviews, and ratings. You can find more information at [Wikipedia](https://en.wikipedia.org/wiki/IMDb).\n",
    "\n",
    "**DataVision** has scraped the website and acquired data for a wide number of movies from IMDB. The company wants to analyse this data to extract insights from its products and answer questions including:\n",
    "* the most successful movies, directors, actors\n",
    "* patterns that might lead to predicting successful movies in the future\n",
    "\n",
    "#### Your tasks are to explore this dataset and generade some actionable knowledge. \n",
    "\n",
    "\n",
    "#### This Jupyter Notebook will be presented to the Warner Bros main stakeholders who have limited knowledge about data science. So, your findings should be complemented by a suitable justification explaining what you observe and, when applicable, what does this observation  mean and, possibly, why it occurs.\n",
    "\n",
    "* For each question (task) a description is provided accompanied (most of the time) by two cells: one for writing the Python code and another for providing the justification. Feel free to add more cells if you feel they are needed, but keep the cells corresponding to the same question close by.\n",
    "\n",
    "### **Important Information**\n",
    "\n",
    "(1) To answer these exercises, you **must first read Chapter 3: Dapa Manipulation with Pandas from the Python Data Science Handbook** (https://jakevdp.github.io/PythonDataScienceHandbook/03.00-introduction-to-pandas.html)\n",
    "\n",
    "(2) If you haven't already done so, complete the exercises on Pandas tutorial to become familiar with the library.\n",
    "\n",
    "**Pandas API Reference**: https://pandas.pydata.org/pandas-docs/stable/reference/index.html\n",
    "\n",
    "***"
   ]
  },
  {
   "cell_type": "markdown",
   "metadata": {
    "id": "HxunYZkEnO-i"
   },
   "source": [
    "### Part 1: Reading dataset\n",
    "\n",
    "The IMDB dataset is available on VLE (look for IMDB-Movie-Data-Filtered.csv in the Practicals section)\n",
    "\n",
    "**T1) Load the IMDB dataset using Pandas**\n",
    "\n",
    "**Note**: You have to download the dataset on your local machine and then load it onto the Jupyter Notebook"
   ]
  },
  {
   "cell_type": "code",
   "execution_count": null,
   "metadata": {
    "colab": {
     "base_uri": "https://localhost:8080/",
     "height": 415
    },
    "executionInfo": {
     "elapsed": 559,
     "status": "error",
     "timestamp": 1612468883976,
     "user": {
      "displayName": "Simos Gerasimou",
      "photoUrl": "https://lh3.googleusercontent.com/a-/AOh14GiyuWEDBGgnFKbsa3BAO5bWW-MwC5_V7MnUQz5JiA=s64",
      "userId": "13902192774339425778"
     },
     "user_tz": 0
    },
    "id": "TQ7vR6IUnO-l",
    "outputId": "dacd2445-1168-4965-ad40-f0da8fa03937"
   },
   "outputs": [],
   "source": [
    "import pandas as pd \n",
    "datasetName = \"IMDB-Movie-Data-Filtered.csv\"\n",
    "movies = pd.read_csv(datasetName) "
   ]
  },
  {
   "cell_type": "markdown",
   "metadata": {
    "id": "6WXI7_mMqK7k"
   },
   "source": [
    "***\n",
    "\n",
    "### Part 2: Cleaning the dataset\n"
   ]
  },
  {
   "cell_type": "markdown",
   "metadata": {
    "id": "CwWehmu4nO-n"
   },
   "source": [
    "**T2) Print (i) the first and (ii) the last five records of the dataframe**"
   ]
  },
  {
   "cell_type": "code",
   "execution_count": null,
   "metadata": {
    "id": "MBznifePnO-p"
   },
   "outputs": [],
   "source": [
    "# Write your answer here\n"
   ]
  },
  {
   "cell_type": "code",
   "execution_count": null,
   "metadata": {
    "id": "juyQzmqinO-q"
   },
   "outputs": [],
   "source": [
    "# Write your answer here\n"
   ]
  },
  {
   "cell_type": "markdown",
   "metadata": {
    "id": "1h99OGkknO-r"
   },
   "source": [
    "**T3) Get general info about the dataset**"
   ]
  },
  {
   "cell_type": "code",
   "execution_count": null,
   "metadata": {
    "id": "7N0o33V8nO-r"
   },
   "outputs": [],
   "source": [
    "# Write your answer here\n"
   ]
  },
  {
   "cell_type": "markdown",
   "metadata": {
    "id": "4fjzCFJSnO-t"
   },
   "source": [
    "**T4) Explore the dataset and try to understand the meaning of each column. For each column, write its meaning and its data type. Also, which columns might be irrelevant?**"
   ]
  },
  {
   "cell_type": "code",
   "execution_count": null,
   "metadata": {
    "executionInfo": {
     "elapsed": 551,
     "status": "ok",
     "timestamp": 1612468956653,
     "user": {
      "displayName": "Simos Gerasimou",
      "photoUrl": "https://lh3.googleusercontent.com/a-/AOh14GiyuWEDBGgnFKbsa3BAO5bWW-MwC5_V7MnUQz5JiA=s64",
      "userId": "13902192774339425778"
     },
     "user_tz": 0
    },
    "id": "ECm4jenUnO-t"
   },
   "outputs": [],
   "source": [
    "#Write your answer here\n"
   ]
  },
  {
   "cell_type": "markdown",
   "metadata": {
    "id": "_7HEGGGKnO-v"
   },
   "source": [
    "**T5) Get the shape of the dataframe**"
   ]
  },
  {
   "cell_type": "code",
   "execution_count": null,
   "metadata": {
    "executionInfo": {
     "elapsed": 1019,
     "status": "ok",
     "timestamp": 1612468964336,
     "user": {
      "displayName": "Simos Gerasimou",
      "photoUrl": "https://lh3.googleusercontent.com/a-/AOh14GiyuWEDBGgnFKbsa3BAO5bWW-MwC5_V7MnUQz5JiA=s64",
      "userId": "13902192774339425778"
     },
     "user_tz": 0
    },
    "id": "xx7_cADtnO-x"
   },
   "outputs": [],
   "source": [
    "# Write your answer here\n"
   ]
  },
  {
   "cell_type": "markdown",
   "metadata": {
    "id": "11FbqB5NnO-y"
   },
   "source": [
    "**T6) Get the name of the columns of the dataframe**"
   ]
  },
  {
   "cell_type": "code",
   "execution_count": null,
   "metadata": {
    "id": "dLY6pUjOnO-y"
   },
   "outputs": [],
   "source": [
    "# Write your answer here\n"
   ]
  },
  {
   "cell_type": "markdown",
   "metadata": {
    "id": "S-Nk1AtbnO-0"
   },
   "source": [
    "**T7) Give more readable names to the columns with suitable capitalisation and eliminating underscores (\"_\")**"
   ]
  },
  {
   "cell_type": "code",
   "execution_count": null,
   "metadata": {
    "id": "gT6j3RsVnO-0"
   },
   "outputs": [],
   "source": [
    "# Write your answer here\n"
   ]
  },
  {
   "cell_type": "markdown",
   "metadata": {
    "id": "zAE2u4ZynO-0"
   },
   "source": [
    "**T8) Find and print the duplicated records**\n",
    "\n",
    "**Note**: A record is duplicated if all its entries are identical with another record"
   ]
  },
  {
   "cell_type": "code",
   "execution_count": null,
   "metadata": {
    "id": "Iy0lcpzSnO-1"
   },
   "outputs": [],
   "source": [
    "# Write your answer here\n"
   ]
  },
  {
   "cell_type": "markdown",
   "metadata": {
    "id": "GcwlBeWsnO-5"
   },
   "source": [
    "**T9) Remove all duplicates**"
   ]
  },
  {
   "cell_type": "code",
   "execution_count": null,
   "metadata": {
    "id": "-PVeSCLVnO-6"
   },
   "outputs": [],
   "source": [
    "# Write your answer here\n"
   ]
  },
  {
   "cell_type": "markdown",
   "metadata": {
    "id": "zeMho2Y3qWaM"
   },
   "source": [
    "***\n",
    "\n",
    "### Part 3: Analysing the dataset\n"
   ]
  },
  {
   "cell_type": "markdown",
   "metadata": {
    "id": "_HHp6bZmnO-6"
   },
   "source": [
    "**T10)  Get some descriptive statistics for the dataset**"
   ]
  },
  {
   "cell_type": "code",
   "execution_count": null,
   "metadata": {
    "id": "U0TneeZnnO-6"
   },
   "outputs": [],
   "source": [
    "# Write your answer here\n"
   ]
  },
  {
   "cell_type": "markdown",
   "metadata": {
    "id": "qPhMfIf-nO-7"
   },
   "source": [
    "**T11)  For each movie, print its title, director and three main actors**"
   ]
  },
  {
   "cell_type": "code",
   "execution_count": null,
   "metadata": {
    "id": "EVWylAsnnO-8"
   },
   "outputs": [],
   "source": [
    "# Write your answer here\n"
   ]
  },
  {
   "cell_type": "markdown",
   "metadata": {
    "id": "YC_TvAiCnO-8"
   },
   "source": [
    "**T12)  Find the movies with the shortest and longest duration, respectively. What are your observations?**"
   ]
  },
  {
   "cell_type": "code",
   "execution_count": null,
   "metadata": {
    "id": "gSzn_djHnO-9"
   },
   "outputs": [],
   "source": [
    "# Write your answer here\n"
   ]
  },
  {
   "cell_type": "markdown",
   "metadata": {
    "id": "vB_ec9s_nO--"
   },
   "source": [
    "**T13)  Find the countries in which at least one movie has been recorded**"
   ]
  },
  {
   "cell_type": "code",
   "execution_count": null,
   "metadata": {
    "id": "UjTd5TuBnO--"
   },
   "outputs": [],
   "source": [
    "# Write your answer here\n"
   ]
  },
  {
   "cell_type": "markdown",
   "metadata": {
    "id": "0Dgs327KnO--"
   },
   "source": [
    "**T14)  Get the movies with score above 8.3 and duration less than 2h**"
   ]
  },
  {
   "cell_type": "code",
   "execution_count": null,
   "metadata": {
    "id": "UZN2YZgunO-_"
   },
   "outputs": [],
   "source": [
    "# Write your answer here\n"
   ]
  },
  {
   "cell_type": "markdown",
   "metadata": {
    "id": "Vtc8zGFRnO-_"
   },
   "source": [
    "**T15)  Find the movies directed by Ridley Scott**\n",
    "\n",
    "Hint: Slicing may be easier for this task; querying is also doable but slightly more difficult"
   ]
  },
  {
   "cell_type": "code",
   "execution_count": null,
   "metadata": {
    "id": "ovquuFftnO_B"
   },
   "outputs": [],
   "source": [
    "# Write your answer here\n"
   ]
  },
  {
   "cell_type": "markdown",
   "metadata": {
    "id": "jf56gneenO_B"
   },
   "source": [
    "**T16)  Find the movies in which Hugh Jackman played as 1st, 2nd or 3rd actor**"
   ]
  },
  {
   "cell_type": "code",
   "execution_count": null,
   "metadata": {
    "id": "_9fuw0HSnO_B"
   },
   "outputs": [],
   "source": [
    "# Write your answer here\n"
   ]
  },
  {
   "cell_type": "markdown",
   "metadata": {
    "id": "3ZwEvGx3nO_C"
   },
   "source": [
    "**T17)  Put the movies into groups depending on their colour and show a summary**"
   ]
  },
  {
   "cell_type": "code",
   "execution_count": null,
   "metadata": {
    "id": "_iTTsTESnO_D"
   },
   "outputs": [],
   "source": [
    "# Write your answer here\n"
   ]
  },
  {
   "cell_type": "markdown",
   "metadata": {
    "id": "ikGA1K7YnO_D"
   },
   "source": [
    "**T18) Get all movies that were released between 2005 and 2010, have a rating above 8.0, but have less income than the estimated budget**"
   ]
  },
  {
   "cell_type": "code",
   "execution_count": null,
   "metadata": {
    "id": "ILZrd2FenO_E"
   },
   "outputs": [],
   "source": [
    "# Write your answer here\n"
   ]
  },
  {
   "cell_type": "markdown",
   "metadata": {
    "id": "SssM577anO_F"
   },
   "source": [
    "**T19) Get all movies that were released after 2010 (inclusive), have a rating above 8.0 (exclusive), but made below the 25th percentile in revenue.**"
   ]
  },
  {
   "cell_type": "code",
   "execution_count": null,
   "metadata": {
    "id": "mCzdJzJvnO_F"
   },
   "outputs": [],
   "source": [
    "# Write your answer here\n"
   ]
  },
  {
   "cell_type": "markdown",
   "metadata": {
    "id": "F8RjXzKXnO_F"
   },
   "source": [
    "**T20) Find out the sum of votes, budget and gross income by year**"
   ]
  },
  {
   "cell_type": "code",
   "execution_count": null,
   "metadata": {
    "id": "DPlDZ93qnO_H"
   },
   "outputs": [],
   "source": [
    "# Write your answer here\n"
   ]
  },
  {
   "cell_type": "markdown",
   "metadata": {
    "id": "FgeHG2ZynO_H"
   },
   "source": [
    "**T21) Find out the top ten directors with the highest average score**"
   ]
  },
  {
   "cell_type": "code",
   "execution_count": null,
   "metadata": {
    "id": "2rV0cL2-nO_I"
   },
   "outputs": [],
   "source": [
    "# Write your answer here\n"
   ]
  },
  {
   "cell_type": "markdown",
   "metadata": {
    "id": "nCL68HzhnO_I"
   },
   "source": [
    "### Ideas for practicing at home\n",
    "\n",
    "* Find the average score, budget and gross income of movies in which Liam Neeson played\n",
    "* Produce a dataset fragment grouped by Language and/or Country\n",
    "* Any other analysis that you might could generate some useful insight.\n",
    "* Try to do Practicals 2 and 3 using Pandas"
   ]
  },
  {
   "cell_type": "code",
   "execution_count": null,
   "metadata": {
    "id": "_6frRM8QnO_J"
   },
   "outputs": [],
   "source": []
  }
 ],
 "metadata": {
  "colab": {
   "name": "DAT1-Practical4-Questions.ipynb",
   "provenance": []
  },
  "kernelspec": {
   "display_name": "Python 3",
   "language": "python",
   "name": "python3"
  },
  "language_info": {
   "codemirror_mode": {
    "name": "ipython",
    "version": 3
   },
   "file_extension": ".py",
   "mimetype": "text/x-python",
   "name": "python",
   "nbconvert_exporter": "python",
   "pygments_lexer": "ipython3",
   "version": "3.9.1"
  }
 },
 "nbformat": 4,
 "nbformat_minor": 1
}
